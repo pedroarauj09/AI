{
  "nbformat": 4,
  "nbformat_minor": 0,
  "metadata": {
    "colab": {
      "name": "Introdução MachineLearning",
      "provenance": [],
      "authorship_tag": "ABX9TyMLxjnKvqn4dJ2FWBAYYI4/",
      "include_colab_link": true
    },
    "kernelspec": {
      "name": "python3",
      "display_name": "Python 3"
    }
  },
  "cells": [
    {
      "cell_type": "markdown",
      "metadata": {
        "id": "view-in-github",
        "colab_type": "text"
      },
      "source": [
        "<a href=\"https://colab.research.google.com/github/pedroarauj09/IA/blob/master/Introdu%C3%A7%C3%A3o_MachineLearning.ipynb\" target=\"_parent\"><img src=\"https://colab.research.google.com/assets/colab-badge.svg\" alt=\"Open In Colab\"/></a>"
      ]
    },
    {
      "cell_type": "markdown",
      "metadata": {
        "id": "YRLRi_AEhE55",
        "colab_type": "text"
      },
      "source": [
        "Para estudar futuramente:\n",
        "  - Reinforcement learning"
      ]
    },
    {
      "cell_type": "code",
      "metadata": {
        "id": "La2-VBFFjnsf",
        "colab_type": "code",
        "colab": {}
      },
      "source": [
        "## Características:\n",
        "# 1 ->  tem pelo?\n",
        "# 2 ->  preguiçoso?\n",
        "# 3 ->  é grande?\n",
        "# 4 ->  gordo?\n",
        "\n",
        "pig1 = [0,1,0,1]\n",
        "pig2 = [1,1,1,1]\n",
        "pig3 = [0,0,0,1]\n",
        "\n",
        "dog1 = [1,1,0,1]\n",
        "dog2 = [0,0,0,0]\n",
        "dog3 = [1,0,1,1]\n",
        "\n",
        "## Resultados:\n",
        "# 0 = pig\n",
        "# 1 = dog\n",
        "\n",
        "treino_x = [pig1,pig2,pig3,dog1,dog2,dog3]\n",
        "treino_y = [0,0,0,1,1,1] # o resultado esperado \n"
      ],
      "execution_count": 3,
      "outputs": []
    },
    {
      "cell_type": "code",
      "metadata": {
        "id": "rIyREH6XnMNn",
        "colab_type": "code",
        "colab": {
          "base_uri": "https://localhost:8080/",
          "height": 86
        },
        "outputId": "5127dbb5-e813-4e42-db61-3c4482fb387a"
      },
      "source": [
        "from sklearn.svm import LinearSVC\n",
        "\n",
        "modelo = LinearSVC() # Cérebro vazio\n",
        "modelo.fit(treino_x,treino_y) # Preenche no cérebro com os dados dos treinos "
      ],
      "execution_count": 4,
      "outputs": [
        {
          "output_type": "execute_result",
          "data": {
            "text/plain": [
              "LinearSVC(C=1.0, class_weight=None, dual=True, fit_intercept=True,\n",
              "          intercept_scaling=1, loss='squared_hinge', max_iter=1000,\n",
              "          multi_class='ovr', penalty='l2', random_state=None, tol=0.0001,\n",
              "          verbose=0)"
            ]
          },
          "metadata": {
            "tags": []
          },
          "execution_count": 4
        }
      ]
    },
    {
      "cell_type": "code",
      "metadata": {
        "id": "b9Srb9c1oI3m",
        "colab_type": "code",
        "colab": {
          "base_uri": "https://localhost:8080/",
          "height": 34
        },
        "outputId": "44cfe3b1-1db2-4790-a92e-9c136de2dde9"
      },
      "source": [
        "animal1 = [1,1,0,1]\n",
        "\n",
        "modelo.predict([animal1])\n"
      ],
      "execution_count": 8,
      "outputs": [
        {
          "output_type": "execute_result",
          "data": {
            "text/plain": [
              "array([1])"
            ]
          },
          "metadata": {
            "tags": []
          },
          "execution_count": 8
        }
      ]
    },
    {
      "cell_type": "code",
      "metadata": {
        "id": "r3-s-dXNqhEz",
        "colab_type": "code",
        "colab": {}
      },
      "source": [
        "animal2 = [0,1,1,1]\n",
        "animal3 = [1,0,0,0]\n",
        "animal4 = [0,1,1,0]\n",
        "\n",
        "teste_x = [animal2,animal3,animal4]\n",
        "teste_y = [1,1,0]\n",
        "\n"
      ],
      "execution_count": 9,
      "outputs": []
    },
    {
      "cell_type": "code",
      "metadata": {
        "id": "HaYSWzmwqzUO",
        "colab_type": "code",
        "colab": {
          "base_uri": "https://localhost:8080/",
          "height": 34
        },
        "outputId": "8bef61cf-e621-4e67-a9b0-35a5e081d1c6"
      },
      "source": [
        "previsoes = modelo.predict(teste_x)\n",
        "previsoes"
      ],
      "execution_count": 10,
      "outputs": [
        {
          "output_type": "execute_result",
          "data": {
            "text/plain": [
              "array([0, 1, 0])"
            ]
          },
          "metadata": {
            "tags": []
          },
          "execution_count": 10
        }
      ]
    },
    {
      "cell_type": "code",
      "metadata": {
        "id": "7wQOTA2xrCvI",
        "colab_type": "code",
        "colab": {
          "base_uri": "https://localhost:8080/",
          "height": 34
        },
        "outputId": "361e9e49-1fd9-4897-f948-fea0fd112693"
      },
      "source": [
        "from sklearn.metrics import accuracy_score\n",
        "\n",
        "accuracy_score(teste_y,previsoes) # Calcular a taxa de acerto\n"
      ],
      "execution_count": 11,
      "outputs": [
        {
          "output_type": "execute_result",
          "data": {
            "text/plain": [
              "0.6666666666666666"
            ]
          },
          "metadata": {
            "tags": []
          },
          "execution_count": 11
        }
      ]
    },
    {
      "cell_type": "markdown",
      "metadata": {
        "id": "Nl6VhPR6hDm0",
        "colab_type": "text"
      },
      "source": [
        ""
      ]
    }
  ]
}